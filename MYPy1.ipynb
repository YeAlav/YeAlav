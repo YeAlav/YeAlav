{
 "cells": [
  {
   "cell_type": "code",
   "execution_count": 3,
   "id": "5c70539d",
   "metadata": {},
   "outputs": [
    {
     "name": "stdout",
     "output_type": "stream",
     "text": [
      "<class 'str'>\n",
      "1942638980144\n",
      "3\n"
     ]
    }
   ],
   "source": [
    "def myFunc(param):\n",
    "    print(type(param))\n",
    "    print(id(param))\n",
    "    print(len(param))\n",
    "\n",
    "myFunc(\"123\")"
   ]
  },
  {
   "cell_type": "code",
   "execution_count": null,
   "id": "833bcafd",
   "metadata": {},
   "outputs": [],
   "source": []
  }
 ],
 "metadata": {
  "kernelspec": {
   "display_name": "Python 3",
   "language": "python",
   "name": "python3"
  },
  "language_info": {
   "codemirror_mode": {
    "name": "ipython",
    "version": 3
   },
   "file_extension": ".py",
   "mimetype": "text/x-python",
   "name": "python",
   "nbconvert_exporter": "python",
   "pygments_lexer": "ipython3",
   "version": "3.8.8"
  }
 },
 "nbformat": 4,
 "nbformat_minor": 5
}
